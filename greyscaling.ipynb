{
 "cells": [
  {
   "metadata": {},
   "cell_type": "markdown",
   "source": "## How to convert colored image to greyscale",
   "id": "67f5d7a057ca5b02"
  },
  {
   "metadata": {
    "collapsed": true,
    "ExecuteTime": {
     "end_time": "2025-02-08T14:16:25.708726Z",
     "start_time": "2025-02-08T14:16:22.309100Z"
    }
   },
   "cell_type": "code",
   "source": [
    "import cv2 as cv\n",
    "\n",
    "image = cv.imread(\"./images/input.jpg\")\n",
    "cv.imshow(\"input\", image)\n",
    "cv.waitKey()\n",
    "\n",
    "gray_image = cv.cvtColor(image, cv.COLOR_BGR2GRAY)\n",
    "\n",
    "cv.imshow(\"Grayscale\", gray_image)\n",
    "cv.waitKey()\n",
    "cv.destroyAllWindows()"
   ],
   "id": "initial_id",
   "outputs": [],
   "execution_count": 1
  },
  {
   "metadata": {
    "ExecuteTime": {
     "end_time": "2025-02-08T14:16:25.728384Z",
     "start_time": "2025-02-08T14:16:25.724169Z"
    }
   },
   "cell_type": "code",
   "source": "print(type(image))",
   "id": "a74ad3d6aac34980",
   "outputs": [
    {
     "name": "stdout",
     "output_type": "stream",
     "text": [
      "<class 'numpy.ndarray'>\n"
     ]
    }
   ],
   "execution_count": 2
  }
 ],
 "metadata": {
  "kernelspec": {
   "display_name": "Python 3",
   "language": "python",
   "name": "python3"
  },
  "language_info": {
   "codemirror_mode": {
    "name": "ipython",
    "version": 2
   },
   "file_extension": ".py",
   "mimetype": "text/x-python",
   "name": "python",
   "nbconvert_exporter": "python",
   "pygments_lexer": "ipython2",
   "version": "2.7.6"
  }
 },
 "nbformat": 4,
 "nbformat_minor": 5
}
