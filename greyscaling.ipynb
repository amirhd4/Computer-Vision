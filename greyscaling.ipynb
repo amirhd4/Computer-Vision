{
 "cells": [
  {
   "metadata": {},
   "cell_type": "markdown",
   "source": "## How to convert colored image to greyscale",
   "id": "67f5d7a057ca5b02"
  },
  {
   "metadata": {
    "collapsed": true
   },
   "cell_type": "code",
   "outputs": [],
   "execution_count": null,
   "source": [
    "import cv2 as cv\n",
    "\n",
    "image = cv.imread(\"./images/input.jpg\")\n",
    "cv.imshow(\"input\", image)\n",
    "cv.waitKey()\n",
    "\n",
    "gray_image = cv.cvtColor(image, cv.COLOR_BGR2GRAY)\n",
    "\n",
    "cv.imshow(\"Grayscale\", rgay)"
   ],
   "id": "initial_id"
  },
  {
   "metadata": {},
   "cell_type": "code",
   "outputs": [],
   "execution_count": null,
   "source": "print(type(image))",
   "id": "a74ad3d6aac34980"
  }
 ],
 "metadata": {
  "kernelspec": {
   "display_name": "Python 3",
   "language": "python",
   "name": "python3"
  },
  "language_info": {
   "codemirror_mode": {
    "name": "ipython",
    "version": 2
   },
   "file_extension": ".py",
   "mimetype": "text/x-python",
   "name": "python",
   "nbconvert_exporter": "python",
   "pygments_lexer": "ipython2",
   "version": "2.7.6"
  }
 },
 "nbformat": 4,
 "nbformat_minor": 5
}
